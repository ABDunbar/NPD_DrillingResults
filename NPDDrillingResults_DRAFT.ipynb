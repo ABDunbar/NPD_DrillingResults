{
 "cells": [
  {
   "cell_type": "code",
   "execution_count": 1,
   "metadata": {},
   "outputs": [],
   "source": [
    "import pandas as pd\n",
    "import requests\n",
    "from bs4 import BeautifulSoup"
   ]
  },
  {
   "cell_type": "code",
   "execution_count": 2,
   "metadata": {},
   "outputs": [],
   "source": [
    "URL = 'http://www.npd.no/en/news/Exploration-drilling-results/'"
   ]
  },
  {
   "cell_type": "code",
   "execution_count": 3,
   "metadata": {},
   "outputs": [],
   "source": [
    "r = requests.get(URL)"
   ]
  },
  {
   "cell_type": "code",
   "execution_count": 4,
   "metadata": {},
   "outputs": [
    {
     "name": "stdout",
     "output_type": "stream",
     "text": [
      "﻿\r\n",
      "\r\n",
      "<!DOCTYPE html PUBLIC \"-//W3C//DTD XHTML 1.0 Transitional//EN\" \"http://www.w3.org/TR/xhtml1/DTD/xhtml1-transitional.dtd\">\r\n",
      "<html id=\"ctl00_HtmlElement\" xmlns=\"http://www.w3.org/1999/xhtml\" lang=\"en\">\r\n",
      "<head id=\"ctl00_Head1\"><title>\r\n",
      "\tExploration drilling results - Norwegian Petroleum Directorate\r\n",
      "</title><meta name=\"rating\" content=\"General\" /><meta name=\"revisit-after\" content=\"4 weeks\" /><meta name=\"generator\" content=\"EPiServer\" /><meta name=\"robots\" content=\"all\" /><meta http-equiv=\"Con\n"
     ]
    }
   ],
   "source": [
    "print(r.text[0:500])"
   ]
  },
  {
   "cell_type": "code",
   "execution_count": 5,
   "metadata": {},
   "outputs": [],
   "source": [
    "soup = BeautifulSoup(r.text, 'html.parser')"
   ]
  },
  {
   "cell_type": "code",
   "execution_count": 8,
   "metadata": {},
   "outputs": [],
   "source": [
    "results = soup.find_all('div', attrs={'class' : 'row'})"
   ]
  },
  {
   "cell_type": "code",
   "execution_count": 9,
   "metadata": {},
   "outputs": [
    {
     "data": {
      "text/plain": [
       "8"
      ]
     },
     "execution_count": 9,
     "metadata": {},
     "output_type": "execute_result"
    }
   ],
   "source": [
    "len(results)"
   ]
  },
  {
   "cell_type": "code",
   "execution_count": 13,
   "metadata": {},
   "outputs": [
    {
     "data": {
      "text/plain": [
       "<div class=\"row\">\n",
       "<h2>\n",
       "<a href=\"/en/news/Exploration-drilling-results/2018/3512-7/\">Dry well near the 35/12-2 (Grosbeak) oil and gas discovery in the North Sea – 35/12-7</a>\n",
       "</h2>\n",
       "<span class=\"date\" id=\"ctl00_contentAreaPlaceholder_mainContentPlaceholder_mylist_pageList1_ctl00_spanDate\" style=\"margin-right:2px\">\n",
       "\t\t                25.07.2018\n",
       "\t\t             </span>\n",
       "    \t\t        Wellesley Petroleum AS, operator of production licence 925, is in the process of completing the drilling of wildcat well 35/12-7 in the North Sea. \n",
       "\t\t          <div style=\"clear:both\"></div>\n",
       "<div class=\"hr\"><hr noshade=\"noshade\"/></div>\n",
       "</div>"
      ]
     },
     "execution_count": 13,
     "metadata": {},
     "output_type": "execute_result"
    }
   ],
   "source": [
    "results[0]"
   ]
  },
  {
   "cell_type": "code",
   "execution_count": 43,
   "metadata": {},
   "outputs": [],
   "source": [
    "first_result = results[1]"
   ]
  },
  {
   "cell_type": "code",
   "execution_count": 44,
   "metadata": {},
   "outputs": [
    {
     "data": {
      "text/plain": [
       "<div class=\"row\">\n",
       "<h2>\n",
       "<a href=\"/en/news/Exploration-drilling-results/2018/345-2-S/\">Dry well near the Knarr field in the North Sea – 34/5-2 S</a>\n",
       "</h2>\n",
       "<span class=\"date\" id=\"ctl00_contentAreaPlaceholder_mainContentPlaceholder_mylist_pageList1_ctl01_spanDate\" style=\"margin-right:2px\">\n",
       "\t\t                06.07.2018\n",
       "\t\t             </span>\n",
       "    \t\t        A/S Norske Shell, operator of production licence 373S, has completed the drilling of wildcat well 34/5-2 S. The well is dry. \n",
       "\t\t          <div style=\"clear:both\"></div>\n",
       "<div class=\"hr\"><hr noshade=\"noshade\"/></div>\n",
       "</div>"
      ]
     },
     "execution_count": 44,
     "metadata": {},
     "output_type": "execute_result"
    }
   ],
   "source": [
    "first_result"
   ]
  },
  {
   "cell_type": "code",
   "execution_count": 45,
   "metadata": {},
   "outputs": [
    {
     "data": {
      "text/plain": [
       "<a href=\"/en/news/Exploration-drilling-results/2018/345-2-S/\">Dry well near the Knarr field in the North Sea – 34/5-2 S</a>"
      ]
     },
     "execution_count": 45,
     "metadata": {},
     "output_type": "execute_result"
    }
   ],
   "source": [
    "first_result.find('a')"
   ]
  },
  {
   "cell_type": "code",
   "execution_count": 46,
   "metadata": {},
   "outputs": [
    {
     "data": {
      "text/plain": [
       "'/en/news/Exploration-drilling-results/2018/345-2-S/'"
      ]
     },
     "execution_count": 46,
     "metadata": {},
     "output_type": "execute_result"
    }
   ],
   "source": [
    "first_result.find('a')['href']"
   ]
  },
  {
   "cell_type": "code",
   "execution_count": 47,
   "metadata": {},
   "outputs": [
    {
     "data": {
      "text/plain": [
       "'Dry well near the Knarr field in the North Sea – 34/5-2 S'"
      ]
     },
     "execution_count": 47,
     "metadata": {},
     "output_type": "execute_result"
    }
   ],
   "source": [
    "first_result.find('a').text"
   ]
  },
  {
   "cell_type": "code",
   "execution_count": 48,
   "metadata": {},
   "outputs": [
    {
     "data": {
      "text/plain": [
       "'06.07.2018'"
      ]
     },
     "execution_count": 48,
     "metadata": {},
     "output_type": "execute_result"
    }
   ],
   "source": [
    "first_result.find('span').text[20:-17]"
   ]
  },
  {
   "cell_type": "code",
   "execution_count": 49,
   "metadata": {},
   "outputs": [
    {
     "data": {
      "text/plain": [
       "['\\n', <h2>\n",
       " <a href=\"/en/news/Exploration-drilling-results/2018/345-2-S/\">Dry well near the Knarr field in the North Sea – 34/5-2 S</a>\n",
       " </h2>, '\\n', <span class=\"date\" id=\"ctl00_contentAreaPlaceholder_mainContentPlaceholder_mylist_pageList1_ctl01_spanDate\" style=\"margin-right:2px\">\n",
       " \t\t                06.07.2018\n",
       " \t\t             </span>, '\\r\\n    \\t\\t        A/S Norske Shell, operator of production licence 373S, has completed the drilling of wildcat well 34/5-2 S. The well is dry. \\r\\n\\t\\t          ', <div style=\"clear:both\"></div>, '\\n', <div class=\"hr\"><hr noshade=\"noshade\"/></div>, '\\n']"
      ]
     },
     "execution_count": 49,
     "metadata": {},
     "output_type": "execute_result"
    }
   ],
   "source": [
    "first_result.contents"
   ]
  },
  {
   "cell_type": "code",
   "execution_count": 50,
   "metadata": {},
   "outputs": [
    {
     "data": {
      "text/plain": [
       "'A/S Norske Shell, operator of production licence 373S, has completed the drilling of wildcat well 34/5-2 S. The well is dry.'"
      ]
     },
     "execution_count": 50,
     "metadata": {},
     "output_type": "execute_result"
    }
   ],
   "source": [
    "first_result.contents[4][16:-15]"
   ]
  },
  {
   "cell_type": "code",
   "execution_count": 54,
   "metadata": {},
   "outputs": [],
   "source": [
    "records = []\n",
    "\n",
    "for result in results:\n",
    "    date = result.find('span').text[20:-17]\n",
    "    headline = result.find('a').text\n",
    "    summary = result.contents[4][16:-15]\n",
    "    link = result.find('a')['href']\n",
    "    \n",
    "    records.append((date, headline, summary, link))"
   ]
  },
  {
   "cell_type": "code",
   "execution_count": 55,
   "metadata": {},
   "outputs": [
    {
     "data": {
      "text/plain": [
       "8"
      ]
     },
     "execution_count": 55,
     "metadata": {},
     "output_type": "execute_result"
    }
   ],
   "source": [
    "len(records)"
   ]
  },
  {
   "cell_type": "code",
   "execution_count": 56,
   "metadata": {},
   "outputs": [
    {
     "data": {
      "text/plain": [
       "[('25.07.2018',\n",
       "  'Dry well near the 35/12-2 (Grosbeak) oil and gas discovery in the North Sea – 35/12-7',\n",
       "  'Wellesley Petroleum AS, operator of production licence 925, is in the process of completing the drilling of wildcat well 35/12-7 in the North Sea.',\n",
       "  '/en/news/Exploration-drilling-results/2018/3512-7/'),\n",
       " ('06.07.2018',\n",
       "  'Dry well near the Knarr field in the North Sea – 34/5-2 S',\n",
       "  'A/S Norske Shell, operator of production licence 373S, has completed the drilling of wildcat well 34/5-2 S. The well is dry.',\n",
       "  '/en/news/Exploration-drilling-results/2018/345-2-S/'),\n",
       " ('04.07.2018',\n",
       "  'Delineation of gas and condensate discovery 6506/9-2 S (Fogelberg) north of the Åsgard field in the Norwegian Sea – 6506/9-4 S and 6506/9-4 A',\n",
       "  'Spirit Energy Norge AS, operator of production licence 433, has completed the drilling of appraisal wells 6506/9-4 S and 6506/9-4 A on gas and condensate discovery 6506/9-2 S (Fogelberg).',\n",
       "  '/en/news/Exploration-drilling-results/2018/65069-4-S-and-65069-4-A/'),\n",
       " ('04.07.2018',\n",
       "  'Minor oil discovery and dry appraisal well southeast of oil discovery 35/9-7 (Nova) in the North Sea - 35/12-6 S and 35/12-6 A',\n",
       "  'Wellesley Petroleum AS, operator of production licence 925, is in the process of completing the drilling of wildcat well 35/12-6 S and appraisal well 35/12-6 A in the North Sea. \\xa0',\n",
       "  '/en/news/Exploration-drilling-results/2018/3512-6-S-and-3512-6-A/'),\n",
       " ('26.06.2018',\n",
       "  'Dry well near the Visund field in the North Sea – 34/8-19 S ',\n",
       "  'Equinor Energy AS, operator of production licence 120, has completed the drilling of wildcat well 34/8-19 S.',\n",
       "  '/en/news/Exploration-drilling-results/2018/348-19-S/'),\n",
       " ('08.06.2018',\n",
       "  'Minor gas and oil discovery near gas discovery 16/1-6 S (Verdandi) in the North Sea – 16/1-29 S',\n",
       "  'Equinor Energy AS, operator of production licence 167, has completed the drilling of wildcat well 16/1-29 S in the central part of the North Sea.',\n",
       "  '/en/news/Exploration-drilling-results/2018/161-29-S/'),\n",
       " ('30.05.2018',\n",
       "  'Minor gas discovery near discovery well 7222/11-2 (Langlitinden) in the Barents Sea – 7221/12-1',\n",
       "  'Aker BP ASA, operator of production licence 659, has concluded the drilling of wildcat well 7221/12-1.',\n",
       "  '/en/news/Exploration-drilling-results/2018/722112-1/'),\n",
       " ('17.04.2018',\n",
       "  'Dry well southwest of the Knarr field in the North Sea – 34/2-5 S',\n",
       "  'Aker BP ASA, operator of production licence 790, has concluded the drilling of wildcat well 34/2-5 S. The well is dry.',\n",
       "  '/en/news/Exploration-drilling-results/2018/342-5-S/')]"
      ]
     },
     "execution_count": 56,
     "metadata": {},
     "output_type": "execute_result"
    }
   ],
   "source": [
    "records"
   ]
  },
  {
   "cell_type": "code",
   "execution_count": 60,
   "metadata": {},
   "outputs": [],
   "source": [
    "df = pd.DataFrame(records, columns= ['Date', 'Headline', 'Summary', 'Link'])"
   ]
  },
  {
   "cell_type": "code",
   "execution_count": 61,
   "metadata": {},
   "outputs": [
    {
     "data": {
      "text/html": [
       "<div>\n",
       "<style scoped>\n",
       "    .dataframe tbody tr th:only-of-type {\n",
       "        vertical-align: middle;\n",
       "    }\n",
       "\n",
       "    .dataframe tbody tr th {\n",
       "        vertical-align: top;\n",
       "    }\n",
       "\n",
       "    .dataframe thead th {\n",
       "        text-align: right;\n",
       "    }\n",
       "</style>\n",
       "<table border=\"1\" class=\"dataframe\">\n",
       "  <thead>\n",
       "    <tr style=\"text-align: right;\">\n",
       "      <th></th>\n",
       "      <th>Date</th>\n",
       "      <th>Headline</th>\n",
       "      <th>Summary</th>\n",
       "      <th>Link</th>\n",
       "    </tr>\n",
       "  </thead>\n",
       "  <tbody>\n",
       "    <tr>\n",
       "      <th>0</th>\n",
       "      <td>25.07.2018</td>\n",
       "      <td>Dry well near the 35/12-2 (Grosbeak) oil and g...</td>\n",
       "      <td>Wellesley Petroleum AS, operator of production...</td>\n",
       "      <td>/en/news/Exploration-drilling-results/2018/351...</td>\n",
       "    </tr>\n",
       "    <tr>\n",
       "      <th>1</th>\n",
       "      <td>06.07.2018</td>\n",
       "      <td>Dry well near the Knarr field in the North Sea...</td>\n",
       "      <td>A/S Norske Shell, operator of production licen...</td>\n",
       "      <td>/en/news/Exploration-drilling-results/2018/345...</td>\n",
       "    </tr>\n",
       "    <tr>\n",
       "      <th>2</th>\n",
       "      <td>04.07.2018</td>\n",
       "      <td>Delineation of gas and condensate discovery 65...</td>\n",
       "      <td>Spirit Energy Norge AS, operator of production...</td>\n",
       "      <td>/en/news/Exploration-drilling-results/2018/650...</td>\n",
       "    </tr>\n",
       "    <tr>\n",
       "      <th>3</th>\n",
       "      <td>04.07.2018</td>\n",
       "      <td>Minor oil discovery and dry appraisal well sou...</td>\n",
       "      <td>Wellesley Petroleum AS, operator of production...</td>\n",
       "      <td>/en/news/Exploration-drilling-results/2018/351...</td>\n",
       "    </tr>\n",
       "    <tr>\n",
       "      <th>4</th>\n",
       "      <td>26.06.2018</td>\n",
       "      <td>Dry well near the Visund field in the North Se...</td>\n",
       "      <td>Equinor Energy AS, operator of production lice...</td>\n",
       "      <td>/en/news/Exploration-drilling-results/2018/348...</td>\n",
       "    </tr>\n",
       "  </tbody>\n",
       "</table>\n",
       "</div>"
      ],
      "text/plain": [
       "         Date                                           Headline  \\\n",
       "0  25.07.2018  Dry well near the 35/12-2 (Grosbeak) oil and g...   \n",
       "1  06.07.2018  Dry well near the Knarr field in the North Sea...   \n",
       "2  04.07.2018  Delineation of gas and condensate discovery 65...   \n",
       "3  04.07.2018  Minor oil discovery and dry appraisal well sou...   \n",
       "4  26.06.2018  Dry well near the Visund field in the North Se...   \n",
       "\n",
       "                                             Summary  \\\n",
       "0  Wellesley Petroleum AS, operator of production...   \n",
       "1  A/S Norske Shell, operator of production licen...   \n",
       "2  Spirit Energy Norge AS, operator of production...   \n",
       "3  Wellesley Petroleum AS, operator of production...   \n",
       "4  Equinor Energy AS, operator of production lice...   \n",
       "\n",
       "                                                Link  \n",
       "0  /en/news/Exploration-drilling-results/2018/351...  \n",
       "1  /en/news/Exploration-drilling-results/2018/345...  \n",
       "2  /en/news/Exploration-drilling-results/2018/650...  \n",
       "3  /en/news/Exploration-drilling-results/2018/351...  \n",
       "4  /en/news/Exploration-drilling-results/2018/348...  "
      ]
     },
     "execution_count": 61,
     "metadata": {},
     "output_type": "execute_result"
    }
   ],
   "source": [
    "df.head()"
   ]
  },
  {
   "cell_type": "code",
   "execution_count": 62,
   "metadata": {},
   "outputs": [],
   "source": [
    "df['Date'] = pd.to_datetime(df['Date'])"
   ]
  },
  {
   "cell_type": "code",
   "execution_count": 63,
   "metadata": {},
   "outputs": [
    {
     "data": {
      "text/html": [
       "<div>\n",
       "<style scoped>\n",
       "    .dataframe tbody tr th:only-of-type {\n",
       "        vertical-align: middle;\n",
       "    }\n",
       "\n",
       "    .dataframe tbody tr th {\n",
       "        vertical-align: top;\n",
       "    }\n",
       "\n",
       "    .dataframe thead th {\n",
       "        text-align: right;\n",
       "    }\n",
       "</style>\n",
       "<table border=\"1\" class=\"dataframe\">\n",
       "  <thead>\n",
       "    <tr style=\"text-align: right;\">\n",
       "      <th></th>\n",
       "      <th>Date</th>\n",
       "      <th>Headline</th>\n",
       "      <th>Summary</th>\n",
       "      <th>Link</th>\n",
       "    </tr>\n",
       "  </thead>\n",
       "  <tbody>\n",
       "    <tr>\n",
       "      <th>0</th>\n",
       "      <td>2018-07-25</td>\n",
       "      <td>Dry well near the 35/12-2 (Grosbeak) oil and g...</td>\n",
       "      <td>Wellesley Petroleum AS, operator of production...</td>\n",
       "      <td>/en/news/Exploration-drilling-results/2018/351...</td>\n",
       "    </tr>\n",
       "    <tr>\n",
       "      <th>1</th>\n",
       "      <td>2018-06-07</td>\n",
       "      <td>Dry well near the Knarr field in the North Sea...</td>\n",
       "      <td>A/S Norske Shell, operator of production licen...</td>\n",
       "      <td>/en/news/Exploration-drilling-results/2018/345...</td>\n",
       "    </tr>\n",
       "    <tr>\n",
       "      <th>2</th>\n",
       "      <td>2018-04-07</td>\n",
       "      <td>Delineation of gas and condensate discovery 65...</td>\n",
       "      <td>Spirit Energy Norge AS, operator of production...</td>\n",
       "      <td>/en/news/Exploration-drilling-results/2018/650...</td>\n",
       "    </tr>\n",
       "    <tr>\n",
       "      <th>3</th>\n",
       "      <td>2018-04-07</td>\n",
       "      <td>Minor oil discovery and dry appraisal well sou...</td>\n",
       "      <td>Wellesley Petroleum AS, operator of production...</td>\n",
       "      <td>/en/news/Exploration-drilling-results/2018/351...</td>\n",
       "    </tr>\n",
       "    <tr>\n",
       "      <th>4</th>\n",
       "      <td>2018-06-26</td>\n",
       "      <td>Dry well near the Visund field in the North Se...</td>\n",
       "      <td>Equinor Energy AS, operator of production lice...</td>\n",
       "      <td>/en/news/Exploration-drilling-results/2018/348...</td>\n",
       "    </tr>\n",
       "    <tr>\n",
       "      <th>5</th>\n",
       "      <td>2018-08-06</td>\n",
       "      <td>Minor gas and oil discovery near gas discovery...</td>\n",
       "      <td>Equinor Energy AS, operator of production lice...</td>\n",
       "      <td>/en/news/Exploration-drilling-results/2018/161...</td>\n",
       "    </tr>\n",
       "    <tr>\n",
       "      <th>6</th>\n",
       "      <td>2018-05-30</td>\n",
       "      <td>Minor gas discovery near discovery well 7222/1...</td>\n",
       "      <td>Aker BP ASA, operator of production licence 65...</td>\n",
       "      <td>/en/news/Exploration-drilling-results/2018/722...</td>\n",
       "    </tr>\n",
       "    <tr>\n",
       "      <th>7</th>\n",
       "      <td>2018-04-17</td>\n",
       "      <td>Dry well southwest of the Knarr field in the N...</td>\n",
       "      <td>Aker BP ASA, operator of production licence 79...</td>\n",
       "      <td>/en/news/Exploration-drilling-results/2018/342...</td>\n",
       "    </tr>\n",
       "  </tbody>\n",
       "</table>\n",
       "</div>"
      ],
      "text/plain": [
       "        Date                                           Headline  \\\n",
       "0 2018-07-25  Dry well near the 35/12-2 (Grosbeak) oil and g...   \n",
       "1 2018-06-07  Dry well near the Knarr field in the North Sea...   \n",
       "2 2018-04-07  Delineation of gas and condensate discovery 65...   \n",
       "3 2018-04-07  Minor oil discovery and dry appraisal well sou...   \n",
       "4 2018-06-26  Dry well near the Visund field in the North Se...   \n",
       "5 2018-08-06  Minor gas and oil discovery near gas discovery...   \n",
       "6 2018-05-30  Minor gas discovery near discovery well 7222/1...   \n",
       "7 2018-04-17  Dry well southwest of the Knarr field in the N...   \n",
       "\n",
       "                                             Summary  \\\n",
       "0  Wellesley Petroleum AS, operator of production...   \n",
       "1  A/S Norske Shell, operator of production licen...   \n",
       "2  Spirit Energy Norge AS, operator of production...   \n",
       "3  Wellesley Petroleum AS, operator of production...   \n",
       "4  Equinor Energy AS, operator of production lice...   \n",
       "5  Equinor Energy AS, operator of production lice...   \n",
       "6  Aker BP ASA, operator of production licence 65...   \n",
       "7  Aker BP ASA, operator of production licence 79...   \n",
       "\n",
       "                                                Link  \n",
       "0  /en/news/Exploration-drilling-results/2018/351...  \n",
       "1  /en/news/Exploration-drilling-results/2018/345...  \n",
       "2  /en/news/Exploration-drilling-results/2018/650...  \n",
       "3  /en/news/Exploration-drilling-results/2018/351...  \n",
       "4  /en/news/Exploration-drilling-results/2018/348...  \n",
       "5  /en/news/Exploration-drilling-results/2018/161...  \n",
       "6  /en/news/Exploration-drilling-results/2018/722...  \n",
       "7  /en/news/Exploration-drilling-results/2018/342...  "
      ]
     },
     "execution_count": 63,
     "metadata": {},
     "output_type": "execute_result"
    }
   ],
   "source": [
    "df"
   ]
  },
  {
   "cell_type": "code",
   "execution_count": null,
   "metadata": {},
   "outputs": [],
   "source": []
  }
 ],
 "metadata": {
  "kernelspec": {
   "display_name": "Python 3",
   "language": "python",
   "name": "python3"
  },
  "language_info": {
   "codemirror_mode": {
    "name": "ipython",
    "version": 3
   },
   "file_extension": ".py",
   "mimetype": "text/x-python",
   "name": "python",
   "nbconvert_exporter": "python",
   "pygments_lexer": "ipython3",
   "version": "3.6.5"
  }
 },
 "nbformat": 4,
 "nbformat_minor": 2
}
