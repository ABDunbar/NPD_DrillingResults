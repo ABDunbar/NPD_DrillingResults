{
 "cells": [
  {
   "cell_type": "code",
   "execution_count": 5,
   "metadata": {},
   "outputs": [],
   "source": [
    "import pandas as pd\n",
    "import requests\n",
    "from bs4 import BeautifulSoup"
   ]
  },
  {
   "cell_type": "code",
   "execution_count": 31,
   "metadata": {},
   "outputs": [],
   "source": [
    "URL = 'http://www.npd.no/en/news/Exploration-drilling-results/2018/3512-7/'\n",
    "#URL = 'http://www.npd.no/en/news/Exploration-drilling-results/'"
   ]
  },
  {
   "cell_type": "code",
   "execution_count": 32,
   "metadata": {},
   "outputs": [],
   "source": [
    "r = requests.get(URL)"
   ]
  },
  {
   "cell_type": "code",
   "execution_count": 33,
   "metadata": {},
   "outputs": [
    {
     "name": "stdout",
     "output_type": "stream",
     "text": [
      "﻿\r\n",
      "\r\n",
      "<!DOCTYPE html PUBLIC \"-//W3C//DTD XHTML 1.0 Transitional//EN\" \"http://www.w3.org/TR/xhtml1/DTD/xhtml1-transitional.dtd\">\r\n",
      "<html id=\"ctl00_HtmlElement\" xmlns=\"http://www.w3.org/1999/xhtml\" lang=\"en\">\r\n",
      "<head id=\"ctl00_Head1\"><title>\r\n",
      "\tDry well near the 35/12-2 (Grosbeak) oil and gas discovery in the North Sea – 35/12-7 - Norwegian Petroleum Directorate\r\n",
      "</title><meta name=\"description\" content=\"Wellesley Petroleum AS, operator of production licence 925, is in the process of completing the dr\n"
     ]
    }
   ],
   "source": [
    "print(r.text[0:500])"
   ]
  },
  {
   "cell_type": "code",
   "execution_count": 34,
   "metadata": {},
   "outputs": [],
   "source": [
    "soup = BeautifulSoup(r.text, 'html.parser')"
   ]
  },
  {
   "cell_type": "code",
   "execution_count": 45,
   "metadata": {},
   "outputs": [],
   "source": [
    "results = soup.find_all('div', attrs={'class' : 'column1_article'})"
   ]
  },
  {
   "cell_type": "code",
   "execution_count": 46,
   "metadata": {},
   "outputs": [
    {
     "data": {
      "text/plain": [
       "2"
      ]
     },
     "execution_count": 46,
     "metadata": {},
     "output_type": "execute_result"
    }
   ],
   "source": [
    "len(results)"
   ]
  },
  {
   "cell_type": "code",
   "execution_count": 49,
   "metadata": {},
   "outputs": [],
   "source": [
    "first_result = results[0]"
   ]
  },
  {
   "cell_type": "code",
   "execution_count": 50,
   "metadata": {},
   "outputs": [
    {
     "data": {
      "text/plain": [
       "<h1>\n",
       "                Dry well near the 35/12-2 (Grosbeak) oil and gas discovery in the North Sea – 35/12-7\n",
       "            </h1>"
      ]
     },
     "execution_count": 50,
     "metadata": {},
     "output_type": "execute_result"
    }
   ],
   "source": [
    "first_result.find('h1')"
   ]
  },
  {
   "cell_type": "code",
   "execution_count": 51,
   "metadata": {},
   "outputs": [
    {
     "data": {
      "text/plain": [
       "'\\r\\n                Dry well near the 35/12-2 (Grosbeak) oil and gas discovery in the North Sea – 35/12-7\\r\\n            '"
      ]
     },
     "execution_count": 51,
     "metadata": {},
     "output_type": "execute_result"
    }
   ],
   "source": [
    "first_result.find('h1').text"
   ]
  },
  {
   "cell_type": "code",
   "execution_count": 64,
   "metadata": {},
   "outputs": [
    {
     "data": {
      "text/plain": [
       "'Dry well near the 35/12-2 (Grosbeak) oil and gas discovery in the North Sea – 35/12-7'"
      ]
     },
     "execution_count": 64,
     "metadata": {},
     "output_type": "execute_result"
    }
   ],
   "source": [
    "first_result.find('h1').text[18:-14]"
   ]
  },
  {
   "cell_type": "code",
   "execution_count": 65,
   "metadata": {},
   "outputs": [
    {
     "data": {
      "text/plain": [
       "['\\n', <h1>\n",
       "                 Dry well near the 35/12-2 (Grosbeak) oil and gas discovery in the North Sea – 35/12-7\n",
       "             </h1>, '\\n', <span class=\"date\" style=\"float: left; margin-right: 5px\">\n",
       "                     25.07.2018\n",
       "                 </span>, '\\n', <div class=\"article-ingress\" id=\"ctl00_contentAreaPlaceholder_mainContentPlaceholder_pnlIntro\">\n",
       " \t\n",
       "                  Wellesley Petroleum AS, operator of production licence 925, is in the  process of completing the drilling of wildcat well 35/12-7 in the North  Sea. \n",
       "              \n",
       " </div>, '\\n', <div class=\"mainbody\" id=\"ctl00_contentAreaPlaceholder_mainContentPlaceholder_pnlMainBody\">\n",
       " <p>The well was drilled about 2 km south of the 35/12-2 (Grosbeak) oil and gas discovery in the northern part of the North Sea, and 80 km west of Florø.</p>\n",
       " <p>The objective of the well was to prove petroleum in Upper Jurassic reservoir rocks (the Heather formation).</p>\n",
       " <p>The well encountered two units of sandstone in the Heather formation. The upper unit had traces of gas in poorly developed sandstone and about seven metres of aquiferous sand with good reservoir properties. The lower unit is about 25 metres of aquiferous sandstone with good reservoir properties. The well is classified as dry.  </p>\n",
       " <p>Data acquisition and sampling have been carried out.</p>\n",
       " <p>This is the third exploration well in <a href=\"http://factpages.npd.no/factpages/Default.aspx?culture=en&amp;nav1=licence&amp;nav2=PageView|All&amp;nav3=30674929\" target=\"_blank\" title=\"production licence 925\">production licence 925</a>. The licence was awarded in APA2017. </p>\n",
       " <p>The well was drilled to a vertical depth of 2726 metres below the sea surface. The well was terminated in the Oseberg formation in the Middle Jurassic.</p>\n",
       " <p>Water depth at the site is 358 metres. The well will be permanently plugged and abandoned.</p>\n",
       " <p>Well 35/12-7 was drilled by the <em>Transocean Arctic</em> drilling facility, which will now proceed to production licence 248 I in the North Sea, to drill wildcat well 35/11-21 S, where Wellesley Petroleum AS is the operator.</p>\n",
       " <h3><strong>Contact in the NPD</strong></h3>\n",
       " <p><a href=\"mailto:eldbjorg.vaage@npd.no\">Eldbjørg Vaage Melberg</a>, tel. +47 51 87 61 00</p>\n",
       " <p><a href=\"/Global/Norsk/1-Aktuelt/Resultat-av-leteboring/R2018/35-12-7.png\" rel=\"photoGallery[npd]\" title=\"35/12-7\"><img alt=\"35/12-7\" height=\"883\" src=\"/Global/Scaled/625x883x2/Global-Norsk-1-Aktuelt-Resultat-av-leteboring-R2018-35-12-7.png\" title=\"35/12-7\" width=\"625\"/></a></p>\n",
       " </div>, '\\n', <div id=\"ctl00_contentAreaPlaceholder_mainContentPlaceholder_DefaultRightSideElement1_pnlCategory\">\n",
       " <hr/>\n",
       " <div style=\"margin-top: 10px; margin-bottom: 25px;\">\n",
       " <b>\n",
       "         Topics:\n",
       "    </b>\n",
       " <a href=\"/en/Topics/Wells/\" id=\"ctl00_contentAreaPlaceholder_mainContentPlaceholder_DefaultRightSideElement1_Repeater1_ctl00_HyperLink1\">Wells</a>\n",
       " </div>\n",
       " </div>, '\\n', <div id=\"articleFeed\"></div>, '\\n', <script type=\"text/javascript\">\n",
       "     var isVideoLink = function (link) {\n",
       "         if (!link) return false;\n",
       "         var currentUrlLower = link.toLowerCase();\n",
       "         if (currentUrlLower.indexOf(\"/nyheter/video/\") > -1) return true;\n",
       "         if (currentUrlLower.indexOf(\"/news/video/\") > -1) return true;\n",
       "         return false;\n",
       "     };\n",
       " \n",
       "     var getRssNews = function (xmlDoc, isEnglish) {\n",
       "         var text = \"<div style='font-family:verdana;margin-top: 20px; margin-bottom: 20px'><hr>\";\n",
       "         var newsText = isEnglish ? \"Latest news\" : \"Siste nyheter\";\n",
       "         text += \"<h2 style='font-weight: bold; margin-top: 20px; text-decoration:none'>\" + newsText + \"</h2>\";\n",
       "         var x = xmlDoc.getElementsByTagName(\"item\");\n",
       "         var listSize = x.length > 10 ? 10 : x.length;\n",
       "         for (var i = 0; i < listSize; i++) {\n",
       "             text += \"<div style='width:100%;margin-top:18px;'>\";\n",
       "             var postDate = new Date(x[i].getElementsByTagName(\"pubDate\")[0].childNodes[0].nodeValue);\n",
       "             var pubDate = postDate.getDate() + \".\" + (postDate.getMonth() + 1) + \".\" + postDate.getFullYear();\n",
       "             var link = x[i].getElementsByTagName(\"link\")[0].childNodes[0].nodeValue;\n",
       "             text += \" <b><a href='\";\n",
       "             text += link;\n",
       "             text += \"'>\";\n",
       "             text += x[i].getElementsByTagName(\"title\")[0].childNodes[0].nodeValue;\n",
       "             if (isVideoLink(link)) {\n",
       "                 text += \"<i class='fa fa-video-camera' style='margin-left: 5px' aria-hidden='true'></i>\";\n",
       "             }\n",
       "             text += \"</a>\";\n",
       "             text += \"</b><br /><span style='color:#666666'>\";\n",
       "             text += pubDate;\n",
       "             text += \"</span> \";\n",
       "             text += x[i].getElementsByTagName(\"description\")[0].childNodes[0].nodeValue;\n",
       "             text += \"</div>\";\n",
       "         }\n",
       "         text += \"</div>\";\n",
       "         return text;\n",
       "     };\n",
       " \n",
       "     $(document).ready(function () {\n",
       "         // only show latest news on news pages\n",
       "         var currentUrlLower = window.location.href.toLowerCase();\n",
       "         if (!(currentUrlLower.indexOf(\"/nyheter/\") > -1 || currentUrlLower.indexOf(\"en/news/\") > -1)) {\n",
       "             return;\n",
       "         }\n",
       " \n",
       "         var lang = document.getElementsByTagName('html')[0].getAttribute('lang');\n",
       "         var isEnglish = lang && lang.toLowerCase() === \"en\";\n",
       "         \n",
       "         var baseUrl = window.location.origin;\n",
       "         var rssUrl = baseUrl + \"/no/Om-OD/Informasjonstjenester/RSS/Nyhetssamling/\";\n",
       "         if (isEnglish)\n",
       "         {\n",
       "             rssUrl = baseUrl + \"/en/About-us/Information-services/RSS/All-News/\";\n",
       "         }\n",
       " \n",
       "         var xmlhttp = new XMLHttpRequest();\n",
       "         xmlhttp.open(\"GET\", rssUrl, true);\n",
       "         xmlhttp.onload = function (e) {\n",
       "             if (xmlhttp.readyState === 4) {\n",
       "                 if (xmlhttp.status === 200) {\n",
       "                     var text = getRssNews(xmlhttp.responseXML, isEnglish);\n",
       "                     var container = $(\"#articleFeed\");\n",
       "                     container.html(text);\n",
       "                 } \n",
       "             }\n",
       "         };\n",
       "         xmlhttp.send();\n",
       "     });\n",
       " </script>, '\\n']"
      ]
     },
     "execution_count": 65,
     "metadata": {},
     "output_type": "execute_result"
    }
   ],
   "source": [
    "first_result.contents"
   ]
  },
  {
   "cell_type": "code",
   "execution_count": 78,
   "metadata": {},
   "outputs": [
    {
     "data": {
      "text/plain": [
       "<div class=\"article-ingress\" id=\"ctl00_contentAreaPlaceholder_mainContentPlaceholder_pnlIntro\">\n",
       "\t\n",
       "                 Wellesley Petroleum AS, operator of production licence 925, is in the  process of completing the drilling of wildcat well 35/12-7 in the North  Sea. \n",
       "             \n",
       "</div>"
      ]
     },
     "execution_count": 78,
     "metadata": {},
     "output_type": "execute_result"
    }
   ],
   "source": [
    "first_result.contents[5]"
   ]
  },
  {
   "cell_type": "code",
   "execution_count": 79,
   "metadata": {},
   "outputs": [
    {
     "data": {
      "text/plain": [
       "<span class=\"date\" style=\"float: left; margin-right: 5px\">\n",
       "                    25.07.2018\n",
       "                </span>"
      ]
     },
     "execution_count": 79,
     "metadata": {},
     "output_type": "execute_result"
    }
   ],
   "source": [
    "first_result.find('span')"
   ]
  },
  {
   "cell_type": "code",
   "execution_count": 83,
   "metadata": {},
   "outputs": [
    {
     "data": {
      "text/plain": [
       "'\\r\\n                    25.07.2018\\r\\n                '"
      ]
     },
     "execution_count": 83,
     "metadata": {},
     "output_type": "execute_result"
    }
   ],
   "source": [
    "first_result.find('span').text"
   ]
  },
  {
   "cell_type": "code",
   "execution_count": 88,
   "metadata": {},
   "outputs": [
    {
     "data": {
      "text/plain": [
       "'25.07.2018'"
      ]
     },
     "execution_count": 88,
     "metadata": {},
     "output_type": "execute_result"
    }
   ],
   "source": [
    "first_result.find('span').text[22:-18]"
   ]
  },
  {
   "cell_type": "code",
   "execution_count": 89,
   "metadata": {},
   "outputs": [
    {
     "data": {
      "text/plain": [
       "<p>The well was drilled about 2 km south of the 35/12-2 (Grosbeak) oil and gas discovery in the northern part of the North Sea, and 80 km west of Florø.</p>"
      ]
     },
     "execution_count": 89,
     "metadata": {},
     "output_type": "execute_result"
    }
   ],
   "source": [
    "first_result.find('p')"
   ]
  },
  {
   "cell_type": "code",
   "execution_count": 90,
   "metadata": {},
   "outputs": [
    {
     "data": {
      "text/plain": [
       "'The well was drilled about 2 km south of the 35/12-2 (Grosbeak) oil and gas discovery in the northern part of the North Sea, and 80 km west of Florø.'"
      ]
     },
     "execution_count": 90,
     "metadata": {},
     "output_type": "execute_result"
    }
   ],
   "source": [
    "first_result.find('p').text"
   ]
  },
  {
   "cell_type": "code",
   "execution_count": null,
   "metadata": {},
   "outputs": [],
   "source": []
  }
 ],
 "metadata": {
  "kernelspec": {
   "display_name": "Python 3",
   "language": "python",
   "name": "python3"
  },
  "language_info": {
   "codemirror_mode": {
    "name": "ipython",
    "version": 3
   },
   "file_extension": ".py",
   "mimetype": "text/x-python",
   "name": "python",
   "nbconvert_exporter": "python",
   "pygments_lexer": "ipython3",
   "version": "3.6.5"
  }
 },
 "nbformat": 4,
 "nbformat_minor": 2
}
