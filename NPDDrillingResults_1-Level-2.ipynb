{
 "cells": [
  {
   "cell_type": "code",
   "execution_count": 2,
   "metadata": {},
   "outputs": [],
   "source": [
    "import pandas as pd\n",
    "import requests\n",
    "from bs4 import BeautifulSoup"
   ]
  },
  {
   "cell_type": "code",
   "execution_count": 3,
   "metadata": {},
   "outputs": [
    {
     "name": "stdout",
     "output_type": "stream",
     "text": [
      "The well was drilled about 2 km south of the 35/12-2 (Grosbeak) oil and gas discovery in the northern part of the North Sea, and 80 km west of Florø.\n",
      "The objective of the well was to prove petroleum in Upper Jurassic reservoir rocks (the Heather formation).\n",
      "The well encountered two units of sandstone in the Heather formation. The upper unit had traces of gas in poorly developed sandstone and about seven metres of aquiferous sand with good reservoir properties. The lower unit is about 25 metres of aquiferous sandstone with good reservoir properties. The well is classified as dry.  \n",
      "Data acquisition and sampling have been carried out.\n",
      "This is the third exploration well in production licence 925. The licence was awarded in APA2017. \n",
      "The well was drilled to a vertical depth of 2726 metres below the sea surface. The well was terminated in the Oseberg formation in the Middle Jurassic.\n",
      "Water depth at the site is 358 metres. The well will be permanently plugged and abandoned.\n",
      "Well 35/12-7 was drilled by the Transocean Arctic drilling facility, which will now proceed to production licence 248 I in the North Sea, to drill wildcat well 35/11-21 S, where Wellesley Petroleum AS is the operator.\n",
      "Eldbjørg Vaage Melberg, tel. +47 51 87 61 00\n",
      "\n",
      "1 barrel oil ≈ 159 litre1 scm oil ≈ 6.29 barrels 1 tonne oil ≈ 1.18 scm oil1 scm oil ≈ 0.85 tonne oil1 scm gas = 35.315 scf gas1000 scm gas = 1 scm o.e.1 scm NGL = 1 scm o.e1 scm condensate = 1 scm o.e.\n",
      "\n",
      "\n"
     ]
    }
   ],
   "source": [
    "URL = 'http://www.npd.no/en/news/Exploration-drilling-results/2018/3512-7/'\n",
    "\n",
    "r = requests.get(URL)\n",
    "\n",
    "html = BeautifulSoup(r.text, 'html.parser')\n",
    "\n",
    "for p in html.select('p'):\n",
    "    print(p.text)\n"
   ]
  },
  {
   "cell_type": "code",
   "execution_count": 3,
   "metadata": {},
   "outputs": [],
   "source": [
    "records = []\n",
    "\n",
    "for result in results:\n",
    "    date = result.find('span').text[20:-17]\n",
    "    headline = result.find('a').text\n",
    "    summary = result.contents[4][16:-15]\n",
    "    link = result.find('a')['href']\n",
    "    \n",
    "    records.append((date, headline, summary, link))"
   ]
  },
  {
   "cell_type": "code",
   "execution_count": 5,
   "metadata": {},
   "outputs": [],
   "source": [
    "df = pd.DataFrame(records, columns= ['Date', 'Headline', 'Summary', 'Link'])\n",
    "\n",
    "df['Date'] = pd.to_datetime(df['Date'])\n",
    "\n",
    "df.to_csv('NPD_Exploration_Drilling.csv', index=False, encoding='utf-8')"
   ]
  },
  {
   "cell_type": "code",
   "execution_count": null,
   "metadata": {},
   "outputs": [],
   "source": []
  }
 ],
 "metadata": {
  "kernelspec": {
   "display_name": "Python 3",
   "language": "python",
   "name": "python3"
  },
  "language_info": {
   "codemirror_mode": {
    "name": "ipython",
    "version": 3
   },
   "file_extension": ".py",
   "mimetype": "text/x-python",
   "name": "python",
   "nbconvert_exporter": "python",
   "pygments_lexer": "ipython3",
   "version": "3.6.5"
  }
 },
 "nbformat": 4,
 "nbformat_minor": 2
}
